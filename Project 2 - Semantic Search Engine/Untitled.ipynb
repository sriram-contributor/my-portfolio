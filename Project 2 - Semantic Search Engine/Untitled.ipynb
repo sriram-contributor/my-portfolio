{
 "cells": [
  {
   "cell_type": "code",
   "execution_count": null,
   "id": "d4ab8780-c5e8-4f97-bce3-761d2ca4ea5f",
   "metadata": {},
   "outputs": [],
   "source": []
  }
 ],
 "metadata": {
  "kernelspec": {
   "display_name": "project",
   "language": "python",
   "name": "project"
  },
  "language_info": {
   "codemirror_mode": {
    "name": "ipython",
    "version": 3
   },
   "file_extension": ".py",
   "mimetype": "text/x-python",
   "name": "python",
   "nbconvert_exporter": "python",
   "pygments_lexer": "ipython3",
   "version": "3.11.4"
  }
 },
 "nbformat": 4,
 "nbformat_minor": 5
}
